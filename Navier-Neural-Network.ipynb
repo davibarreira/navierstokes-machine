{
 "cells": [
  {
   "cell_type": "code",
   "execution_count": 31,
   "metadata": {
    "collapsed": false
   },
   "outputs": [],
   "source": [
    "%matplotlib inline\n",
    "import pandas as pd\n",
    "import numpy as np\n",
    "from matplotlib import pyplot as plt\n",
    "import matplotlib.image as mpimg\n",
    "import seaborn as sns\n",
    "sns.set_style(\"whitegrid\", {'axes.grid' : False})\n",
    "import os\n",
    "import re\n",
    "import tensorflow as tf\n",
    "from sklearn.cross_validation import train_test_split\n",
    "from sklearn.metrics import r2_score\n",
    "from sklearn.tree import DecisionTreeRegressor\n",
    "from sklearn.ensemble import RandomForestRegressor"
   ]
  },
  {
   "cell_type": "code",
   "execution_count": 3,
   "metadata": {
    "collapsed": true
   },
   "outputs": [],
   "source": [
    "def ImportData(folder):\n",
    "    file_list = []\n",
    "    file_list.append(pd.read_table('./Mesh/meshcoord.txt',sep=\"\\s+\"))\n",
    "    for filename in os.listdir(folder):\n",
    "        if filename.endswith(\".txt\"): \n",
    "            file_list.append(pd.read_csv(os.path.join(folder, filename),sep=\"\\s+\"))\n",
    "    df = pd.DataFrame()\n",
    "    df = pd.concat(file_list,axis=1)\n",
    "    df = df.drop(['vz','v','ccz'],axis=1)\n",
    "    variables = {}\n",
    "    for col in df.columns:\n",
    "        variables[col],ccx,ccy = np.histogram2d(df.ccx,df.ccy,weights=df[col],bins=(225,200))\n",
    "        variables[col] = np.vstack((np.zeros(200),variables[col],np.zeros(200)))\n",
    "        variables[col] = np.hstack((np.zeros((227,1)),variables[col],np.zeros((227,1))))\n",
    "        variables[col] = variables[col].T[::-1]\n",
    "        \n",
    "    o = np.zeros((225,200))\n",
    "    xg, yg = np.meshgrid(np.arange(100,125,1),np.arange(0,50,1))\n",
    "    for i in np.arange(100,125,1):\n",
    "        for j in np.arange(0,50,1):\n",
    "            o[i,j] = 1\n",
    "    variables['o'] = o\n",
    "    variables['o'] = np.vstack((np.ones(200)+5,variables['o'],np.ones(200)+2))\n",
    "    variables['o'] = np.hstack((np.ones((227,1)),variables['o'],np.ones((227,1))))\n",
    "    variables['o'] = variables['o'].T[::-1]\n",
    "    \n",
    "    dataconv = variables.copy()\n",
    "    \n",
    "    variables.pop('ccx',None)\n",
    "    variables.pop('ccy',None)\n",
    "    \n",
    "    plist = []\n",
    "    for i in np.arange(1,201,1):\n",
    "        for j in np.arange(1,226,1):\n",
    "            di = {}\n",
    "            for col in variables:\n",
    "                di.update({col+'in':variables[col][i,j],col+'right':variables[col][i,j-1],\n",
    "                              col+'left':variables[col][i,j+1],col+'up':variables[col][i-1,j],\n",
    "                              col+'down':variables[col][i+1,j]})\n",
    "                di.update({'ccx':ccx[j-1],'ccy':ccy[-i]})\n",
    "            plist.append(di)\n",
    "    data= pd.DataFrame(plist)\n",
    "    \n",
    "    return data,dataconv\n"
   ]
  },
  {
   "cell_type": "code",
   "execution_count": 41,
   "metadata": {
    "collapsed": false
   },
   "outputs": [],
   "source": [
    "folder = os.getcwd()+'/OpenFOAMfiles/turbulent/machineRANS/'\n",
    "data = {}\n",
    "dataconv = {}\n",
    "for filename in os.listdir(folder):\n",
    "    if filename.startswith(\"0.\"): \n",
    "        data[filename],dataconv[filename] = ImportData(folder+filename) "
   ]
  },
  {
   "cell_type": "code",
   "execution_count": 25,
   "metadata": {
    "collapsed": false
   },
   "outputs": [
    {
     "data": {
      "text/plain": [
       "<matplotlib.image.AxesImage at 0x7f5509597d30>"
      ]
     },
     "execution_count": 25,
     "metadata": {},
     "output_type": "execute_result"
    },
    {
     "data": {
      "image/png": "[encoded data removed]",
      "text/plain": [
       "<matplotlib.figure.Figure at 0x7f55095b5208>"
      ]
     },
     "metadata": {},
     "output_type": "display_data"
    }
   ],
   "source": [
    "plt.figure(figsize=(15,15))\n",
    "plt.imshow(dataconv['0.15']['o'],cmap='coolwarm')"
   ]
  },
  {
   "cell_type": "code",
   "execution_count": 33,
   "metadata": {
    "collapsed": false
   },
   "outputs": [],
   "source": [
    "datainput   = pd.concat([data['0.1']],ignore_index=True)\n",
    "dataoutput  = pd.concat([data['0.1']],ignore_index=True).pressurein.copy()\n",
    "datainput  = datainput.drop(['ccx','ccy','pressurein','pressureleft','pressureright',\n",
    "                            'pressureup','pressuredown'],axis=1).copy()"
   ]
  },
  {
   "cell_type": "code",
   "execution_count": 34,
   "metadata": {
    "collapsed": true
   },
   "outputs": [],
   "source": [
    "clf = DecisionTreeRegressor(random_state=52)\n",
    "clf = clf.fit(datainput,dataoutput)"
   ]
  },
  {
   "cell_type": "code",
   "execution_count": 35,
   "metadata": {
    "collapsed": false
   },
   "outputs": [
    {
     "name": "stdout",
     "output_type": "stream",
     "text": [
      "1.0\n"
     ]
    }
   ],
   "source": [
    "print(r2_score(dataoutput,clf.predict(datainput)))"
   ]
  },
  {
   "cell_type": "code",
   "execution_count": 36,
   "metadata": {
    "collapsed": false
   },
   "outputs": [
    {
     "data": {
      "text/plain": [
       "dict_keys(['0.1', '0.11', '0.15', '0.16', '0.19'])"
      ]
     },
     "execution_count": 36,
     "metadata": {},
     "output_type": "execute_result"
    }
   ],
   "source": [
    "data.keys()"
   ]
  },
  {
   "cell_type": "code",
   "execution_count": 38,
   "metadata": {
    "collapsed": true
   },
   "outputs": [],
   "source": [
    "datainput   = pd.concat([data['0.19']],ignore_index=True)\n",
    "dataoutput  = pd.concat([data['0.19']],ignore_index=True).pressurein.copy()\n",
    "datainput  = datainput.drop(['ccx','ccy','pressurein','pressureleft','pressureright',\n",
    "                            'pressureup','pressuredown'],axis=1).copy()\n",
    "clf = DecisionTreeRegressor(random_state=52)\n",
    "clf = clf.fit(datainput,dataoutput)"
   ]
  },
  {
   "cell_type": "code",
   "execution_count": 39,
   "metadata": {
    "collapsed": false
   },
   "outputs": [
    {
     "name": "stdout",
     "output_type": "stream",
     "text": [
      "1.0\n"
     ]
    }
   ],
   "source": [
    "print(r2_score(dataoutput,clf.predict(datainput)))"
   ]
  },
  {
   "cell_type": "code",
   "execution_count": null,
   "metadata": {
    "collapsed": true
   },
   "outputs": [],
   "source": []
  }
 ],
 "metadata": {
  "kernelspec": {
   "display_name": "Python (py3-tensorflow)",
   "language": "python",
   "name": "myenv"
  },
  "language_info": {
   "codemirror_mode": {
    "name": "ipython",
    "version": 3
   },
   "file_extension": ".py",
   "mimetype": "text/x-python",
   "name": "python",
   "nbconvert_exporter": "python",
   "pygments_lexer": "ipython3",
   "version": "3.5.2"
  }
 },
 "nbformat": 4,
 "nbformat_minor": 2
}
