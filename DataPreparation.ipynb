{
 "cells": [
  {
   "cell_type": "code",
   "execution_count": 5,
   "metadata": {
    "collapsed": false,
    "scrolled": false
   },
   "outputs": [],
   "source": [
    "%matplotlib inline\n",
    "import pandas as pd\n",
    "import numpy as np\n",
    "from matplotlib import pyplot as plt\n",
    "import matplotlib.image as mpimg\n",
    "import sklearn as sk\n",
    "import seaborn as sns\n",
    "sns.set_style(\"whitegrid\", {'axes.grid' : False})\n",
    "import os"
   ]
  },
  {
   "cell_type": "code",
   "execution_count": 38,
   "metadata": {
    "collapsed": false
   },
   "outputs": [],
   "source": [
    "def normalize(x):\n",
    "    \"\"\"\n",
    "    Normalize a list of sample image data in the range of 0 to 1\n",
    "    : x: List of image data.  The image shape is (32, 32, 3)\n",
    "    : return: Numpy array of normalize data\n",
    "    \"\"\"\n",
    "    x = (x-np.min(x))/(np.max(x)-np.min(x))\n",
    "    # TODO: Implement Function\n",
    "    return x"
   ]
  },
  {
   "cell_type": "code",
   "execution_count": 39,
   "metadata": {
    "collapsed": true
   },
   "outputs": [],
   "source": [
    "def ImportData(folder):\n",
    "    file_list = []\n",
    "    file_list.append(pd.read_table('meshcoord.txt',sep=\"\\s+\"))\n",
    "    file_list.append(pd.read_table(folder+'/pressure.txt'))\n",
    "    file_list.append(pd.read_csv(folder+'/velocity.txt',sep=\"\\s+\"))\n",
    "    df = pd.DataFrame()\n",
    "    df = pd.concat(file_list,axis=1)\n",
    "    df = df.drop(['vz','v','ccz'],axis=1)\n",
    "    \n",
    "    vx,ccx,ccy = np.histogram2d(df.ccx,df.ccy,weights=df.vx,bins=(225,200))\n",
    "    vy,ccx,ccy = np.histogram2d(df.ccx,df.ccy,weights=df.vy,bins=(225,200))\n",
    "    p,ccx,ccy = np.histogram2d(df.ccx,df.ccy,weights=df.pressure,bins=(225,200))\n",
    "    _,ccx,ccy = np.histogram2d(df.ccx,df.ccy,weights=df.vx,bins=(224,199))\n",
    "\n",
    "\n",
    "    o = np.zeros((225,200))\n",
    "    xg, yg = np.meshgrid(np.arange(100,125,1),np.arange(0,50,1))\n",
    "    for i in np.arange(100,125,1):\n",
    "        for j in np.arange(0,50,1):\n",
    "            o[i,j] = 1\n",
    "\n",
    "\n",
    "    VY = np.vstack((np.zeros(200),vy,np.zeros(200)))\n",
    "    VY = np.hstack((np.zeros((227,1)),VY,np.zeros((227,1))))\n",
    "    VX = np.vstack((np.zeros(200),vx,np.zeros(200)))\n",
    "    VX = np.hstack((np.zeros((227,1)),VX,np.zeros((227,1))))\n",
    "    P = np.vstack((np.zeros(200),p,np.zeros(200)))\n",
    "    P = np.hstack((np.zeros((227,1)),P,np.zeros((227,1))))\n",
    "    O = np.vstack((np.ones(200)+5,o,np.ones(200)+2))\n",
    "    O = np.hstack((np.ones((227,1)),O,np.ones((227,1))))\n",
    "\n",
    "    VX = VX.T[::-1]\n",
    "    VY = VY.T[::-1]\n",
    "    P  = P.T[::-1]\n",
    "    O  = O.T[::-1]\n",
    "    \n",
    "    plist = []\n",
    "    for i in np.arange(1,201,1):\n",
    "        for j in np.arange(1,226,1):\n",
    "            plist.append({'pin':P[i,j],'pright':P[i,j-1],'pleft':P[i,j+1],\n",
    "                           'pup':P[i-1,j],'pdown':P[i+1,j],\n",
    "                          'vxin':VX[i,j],'vright':VX[i,j-1],'vleft':VX[i,j+1],\n",
    "                          'vup':VY[i-1,j],'vdown':VY[i+1,j],'vyin':VY[i,j],\n",
    "                          'oin':O[i,j],'oright':O[i,j-1],'oleft':O[i,j+1],\n",
    "                          'oup':O[i-1,j],'odown':O[i+1,j],\n",
    "                          'ccx':ccx[j-1],'ccy':ccy[-i]\n",
    "                         })\n",
    "            \n",
    "    data= pd.DataFrame(plist)\n",
    "    return data\n"
   ]
  },
  {
   "cell_type": "code",
   "execution_count": 40,
   "metadata": {
    "collapsed": false
   },
   "outputs": [],
   "source": [
    "folder = os.getcwd()+'/0.11'\n",
    "data = ImportData(folder)"
   ]
  },
  {
   "cell_type": "code",
   "execution_count": 42,
   "metadata": {
    "collapsed": false
   },
   "outputs": [
    {
     "data": {
      "text/plain": [
       "<matplotlib.axes._subplots.AxesSubplot at 0x7fe95cccaf60>"
      ]
     },
     "execution_count": 42,
     "metadata": {},
     "output_type": "execute_result"
    },
    {
     "data": {
      "image/png": "[encoded data removed]",
      "text/plain": [
       "<matplotlib.figure.Figure at 0x7fe95fa666a0>"
      ]
     },
     "metadata": {},
     "output_type": "display_data"
    }
   ],
   "source": [
    "plt.figure(figsize=(15,3))\n",
    "plt.subplot(121)\n",
    "data.pin.hist(bins=100)\n",
    "plt.subplot(122)\n",
    "data.vxin.hist(bins=100)"
   ]
  },
  {
   "cell_type": "code",
   "execution_count": null,
   "metadata": {
    "collapsed": true
   },
   "outputs": [],
   "source": []
  },
  {
   "cell_type": "code",
   "execution_count": null,
   "metadata": {
    "collapsed": true
   },
   "outputs": [],
   "source": []
  }
 ],
 "metadata": {
  "kernelspec": {
   "display_name": "Python (py3-tensorflow)",
   "language": "python",
   "name": "myenv"
  },
  "language_info": {
   "codemirror_mode": {
    "name": "ipython",
    "version": 3
   },
   "file_extension": ".py",
   "mimetype": "text/x-python",
   "name": "python",
   "nbconvert_exporter": "python",
   "pygments_lexer": "ipython3",
   "version": "3.5.2"
  }
 },
 "nbformat": 4,
 "nbformat_minor": 2
}
