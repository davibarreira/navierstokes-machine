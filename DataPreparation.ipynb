{
 "cells": [
  {
   "cell_type": "markdown",
   "metadata": {},
   "source": [
    "# Data Preparation\n",
    "\n",
    "### This notebook is a rewrite of the previous notebook with the objective of making the data preparation steps easier and modular."
   ]
  },
  {
   "cell_type": "code",
   "execution_count": 94,
   "metadata": {
    "collapsed": false,
    "deletable": true,
    "editable": true,
    "scrolled": false
   },
   "outputs": [],
   "source": [
    "%matplotlib inline\n",
    "import pandas as pd\n",
    "import numpy as np\n",
    "from matplotlib import pyplot as plt\n",
    "import matplotlib.image as mpimg\n",
    "import seaborn as sns\n",
    "sns.set_style(\"whitegrid\", {'axes.grid' : False})\n",
    "from sklearn.cross_validation import train_test_split\n",
    "from sklearn.metrics import r2_score\n",
    "from sklearn.tree import DecisionTreeRegressor\n",
    "from sklearn.ensemble import RandomForestRegressor\n",
    "import os\n",
    "\n",
    "import re\n"
   ]
  },
  {
   "cell_type": "markdown",
   "metadata": {},
   "source": [
    "### 1. Generating the pressure and velocity fields\n",
    "The following extracts the pressure and velocity fields from the original OpenFOAM files and creates the files *pressure.txt* and *velocity.txt* that are ready to be imported by the pandas library."
   ]
  },
  {
   "cell_type": "code",
   "execution_count": 121,
   "metadata": {
    "collapsed": false
   },
   "outputs": [],
   "source": [
    "# for folders in ['machineRANS/0.1','machineRANS/0.2','machineLES/0.1','machineLES/0.2']:\n",
    "for folders in ['machineRANS/0.15','machineRANS/0.05','machineLES/0.15','machineLES/0.05']:\n",
    "    folder = os.getcwd()+'/OpenFOAMfiles/turbulent/'+folders\n",
    "    for field in ['p','U']:\n",
    "        file   = folder+'/'+field\n",
    "        with open(file,'r') as f:\n",
    "            text = f.readlines()\n",
    "            text = text[22:43772]\n",
    "\n",
    "        if field == 'p':\n",
    "            file   = folder+'/pressure.txt'\n",
    "            with open(file,'w') as f:\n",
    "                f.write('pressure\\n')\n",
    "                f.write(''.join(text))\n",
    "        else:\n",
    "            file   = folder+'/velocity.txt'\n",
    "            with open(file,'w') as f:\n",
    "                f.write('vx vy vz\\n')\n",
    "                vel = ''.join(text)\n",
    "                vel = re.sub('[()]','', vel)\n",
    "                f.write(vel)"
   ]
  },
  {
   "cell_type": "markdown",
   "metadata": {},
   "source": [
    "Generate the turbulent properties for the RANS simulation"
   ]
  },
  {
   "cell_type": "code",
   "execution_count": 123,
   "metadata": {
    "collapsed": false
   },
   "outputs": [],
   "source": [
    "folder = os.getcwd()+'/OpenFOAMfiles/turbulent/machineRANS/0.05'\n",
    "for field in ['nut','k','epsilon']:\n",
    "    file   = folder+'/'+field\n",
    "    with open(file,'r') as f:\n",
    "        text = f.readlines()\n",
    "        text = text[22:43772]\n",
    "    file   = folder+'/'+field+'.txt'\n",
    "    with open(file,'w') as f:\n",
    "        f.write(field+'\\n')\n",
    "        f.write(''.join(text))\n"
   ]
  },
  {
   "cell_type": "markdown",
   "metadata": {
    "collapsed": false,
    "deletable": true,
    "editable": true
   },
   "source": [
    "### 2. Function Definition\n",
    "The function to import the data is written here."
   ]
  },
  {
   "cell_type": "code",
   "execution_count": 3,
   "metadata": {
    "collapsed": true,
    "deletable": true,
    "editable": true
   },
   "outputs": [],
   "source": [
    "def undonormalize(xn,xmax,xmin):\n",
    "    \"\"\"\n",
    "    Transform data back to the original scale\n",
    "    : xn: Data that was normalized\n",
    "    : xmax: Maximum value before data normalization\n",
    "    : xmin: Minimum value before data normalization\n",
    "    : return: Numpy array of data with original scale\n",
    "    \"\"\"\n",
    "    x = xn*(xmax-xmin)+xmin\n",
    "    return x\n",
    "\n",
    "def ImportData(folder):\n",
    "    file_list = []\n",
    "    file_list.append(pd.read_table('./Mesh/meshcoord.txt',sep=\"\\s+\"))\n",
    "    file_list.append(pd.read_table(folder+'/pressure.txt'))\n",
    "    file_list.append(pd.read_csv(folder+'/velocity.txt',sep=\"\\s+\"))\n",
    "    df = pd.DataFrame()\n",
    "    df = pd.concat(file_list,axis=1)\n",
    "    df = df.drop(['vz','v','ccz'],axis=1)\n",
    "    \n",
    "    vx,ccx,ccy = np.histogram2d(df.ccx,df.ccy,weights=df.vx,bins=(225,200))\n",
    "    vy,ccx,ccy = np.histogram2d(df.ccx,df.ccy,weights=df.vy,bins=(225,200))\n",
    "    p,ccx,ccy = np.histogram2d(df.ccx,df.ccy,weights=df.pressure,bins=(225,200))\n",
    "    _,ccx,ccy = np.histogram2d(df.ccx,df.ccy,weights=df.vx,bins=(224,199))\n",
    "\n",
    "\n",
    "    o = np.zeros((225,200))\n",
    "    xg, yg = np.meshgrid(np.arange(100,125,1),np.arange(0,50,1))\n",
    "    for i in np.arange(100,125,1):\n",
    "        for j in np.arange(0,50,1):\n",
    "            o[i,j] = 1\n",
    "\n",
    "\n",
    "    VY = np.vstack((np.zeros(200),vy,np.zeros(200)))\n",
    "    VY = np.hstack((np.zeros((227,1)),VY,np.zeros((227,1))))\n",
    "    VX = np.vstack((np.zeros(200),vx,np.zeros(200)))\n",
    "    VX = np.hstack((np.zeros((227,1)),VX,np.zeros((227,1))))\n",
    "    P = np.vstack((np.zeros(200),p,np.zeros(200)))\n",
    "    P = np.hstack((np.zeros((227,1)),P,np.zeros((227,1))))\n",
    "    O = np.vstack((np.ones(200)+5,o,np.ones(200)+2))\n",
    "    O = np.hstack((np.ones((227,1)),O,np.ones((227,1))))\n",
    "\n",
    "    VX = VX.T[::-1]\n",
    "    VY = VY.T[::-1]\n",
    "    P  = P.T[::-1]\n",
    "    O  = O.T[::-1]\n",
    "    \n",
    "    plist = []\n",
    "    for i in np.arange(1,201,1):\n",
    "        for j in np.arange(1,226,1):\n",
    "            plist.append({'pin':P[i,j],'pright':P[i,j-1],'pleft':P[i,j+1],\n",
    "                           'pup':P[i-1,j],'pdown':P[i+1,j],\n",
    "                          'vxin':VX[i,j],'vright':VX[i,j-1],'vleft':VX[i,j+1],\n",
    "                          'vup':VY[i-1,j],'vdown':VY[i+1,j],'vyin':VY[i,j],\n",
    "                          'oin':O[i,j],'oright':O[i,j-1],'oleft':O[i,j+1],\n",
    "                          'oup':O[i-1,j],'odown':O[i+1,j],\n",
    "                          'ccx':ccx[j-1],'ccy':ccy[-i]\n",
    "                         })\n",
    "            \n",
    "    data= pd.DataFrame(plist)\n",
    "    return data\n"
   ]
  },
  {
   "cell_type": "markdown",
   "metadata": {},
   "source": [
    "### 3. File importation"
   ]
  },
  {
   "cell_type": "markdown",
   "metadata": {},
   "source": [
    "First, import a sample file and check the variables distribution."
   ]
  },
  {
   "cell_type": "code",
   "execution_count": 98,
   "metadata": {
    "collapsed": false,
    "deletable": true,
    "editable": true
   },
   "outputs": [
    {
     "data": {
      "text/plain": [
       "<matplotlib.axes._subplots.AxesSubplot at 0x7eff1d649d68>"
      ]
     },
     "execution_count": 98,
     "metadata": {},
     "output_type": "execute_result"
    },
    {
     "data": {
      "image/png": "[encoded data removed]",
      "text/plain": [
       "<matplotlib.figure.Figure at 0x7eff5cdf64e0>"
      ]
     },
     "metadata": {},
     "output_type": "display_data"
    }
   ],
   "source": [
    "folder = os.getcwd()+'/OpenFOAMfiles/98'\n",
    "data = ImportData(folder)\n",
    "plt.figure(figsize=(15,3))\n",
    "plt.subplot(121)\n",
    "data.pin.hist(bins=100)\n",
    "plt.subplot(122)\n",
    "data.vxin.hist(bins=100)"
   ]
  },
  {
   "cell_type": "markdown",
   "metadata": {
    "collapsed": false,
    "deletable": true,
    "editable": true
   },
   "source": [
    "Now, import the files to be used in the training and testing."
   ]
  },
  {
   "cell_type": "code",
   "execution_count": 107,
   "metadata": {
    "collapsed": true,
    "deletable": true,
    "editable": true
   },
   "outputs": [],
   "source": [
    "folder = os.getcwd()+'/OpenFOAMfiles/90'\n",
    "data1 = ImportData(folder)\n",
    "folder = os.getcwd()+'/OpenFOAMfiles/95'\n",
    "data2 = ImportData(folder)\n",
    "folder = os.getcwd()+'/OpenFOAMfiles/100'\n",
    "data3 = ImportData(folder)"
   ]
  },
  {
   "cell_type": "code",
   "execution_count": 120,
   "metadata": {
    "collapsed": false
   },
   "outputs": [
    {
     "data": {
      "text/html": [
       "<div>\n",
       "<table border=\"1\" class=\"dataframe\">\n",
       "  <thead>\n",
       "    <tr style=\"text-align: right;\">\n",
       "      <th></th>\n",
       "      <th>ccx</th>\n",
       "      <th>ccy</th>\n",
       "      <th>odown</th>\n",
       "      <th>oin</th>\n",
       "      <th>oleft</th>\n",
       "      <th>oright</th>\n",
       "      <th>oup</th>\n",
       "      <th>pdown</th>\n",
       "      <th>pin</th>\n",
       "      <th>pleft</th>\n",
       "      <th>pright</th>\n",
       "      <th>pup</th>\n",
       "      <th>vdown</th>\n",
       "      <th>vleft</th>\n",
       "      <th>vright</th>\n",
       "      <th>vup</th>\n",
       "      <th>vxin</th>\n",
       "      <th>vyin</th>\n",
       "    </tr>\n",
       "  </thead>\n",
       "  <tbody>\n",
       "    <tr>\n",
       "      <th>0</th>\n",
       "      <td>0.01</td>\n",
       "      <td>3.99</td>\n",
       "      <td>0.0</td>\n",
       "      <td>0.0</td>\n",
       "      <td>0.0</td>\n",
       "      <td>6.0</td>\n",
       "      <td>1.0</td>\n",
       "      <td>0.000031</td>\n",
       "      <td>0.000044</td>\n",
       "      <td>0.000035</td>\n",
       "      <td>0.000000</td>\n",
       "      <td>0.0</td>\n",
       "      <td>-0.000389</td>\n",
       "      <td>0.009015</td>\n",
       "      <td>0.000000</td>\n",
       "      <td>0.0</td>\n",
       "      <td>0.009596</td>\n",
       "      <td>-0.000328</td>\n",
       "    </tr>\n",
       "    <tr>\n",
       "      <th>1</th>\n",
       "      <td>0.03</td>\n",
       "      <td>3.99</td>\n",
       "      <td>0.0</td>\n",
       "      <td>0.0</td>\n",
       "      <td>0.0</td>\n",
       "      <td>0.0</td>\n",
       "      <td>1.0</td>\n",
       "      <td>0.000029</td>\n",
       "      <td>0.000035</td>\n",
       "      <td>0.000029</td>\n",
       "      <td>0.000044</td>\n",
       "      <td>0.0</td>\n",
       "      <td>-0.000836</td>\n",
       "      <td>0.008269</td>\n",
       "      <td>0.009596</td>\n",
       "      <td>0.0</td>\n",
       "      <td>0.009015</td>\n",
       "      <td>-0.000642</td>\n",
       "    </tr>\n",
       "    <tr>\n",
       "      <th>2</th>\n",
       "      <td>0.05</td>\n",
       "      <td>3.99</td>\n",
       "      <td>0.0</td>\n",
       "      <td>0.0</td>\n",
       "      <td>0.0</td>\n",
       "      <td>0.0</td>\n",
       "      <td>1.0</td>\n",
       "      <td>0.000027</td>\n",
       "      <td>0.000029</td>\n",
       "      <td>0.000026</td>\n",
       "      <td>0.000035</td>\n",
       "      <td>0.0</td>\n",
       "      <td>-0.001009</td>\n",
       "      <td>0.007365</td>\n",
       "      <td>0.009015</td>\n",
       "      <td>0.0</td>\n",
       "      <td>0.008269</td>\n",
       "      <td>-0.000680</td>\n",
       "    </tr>\n",
       "    <tr>\n",
       "      <th>3</th>\n",
       "      <td>0.07</td>\n",
       "      <td>3.99</td>\n",
       "      <td>0.0</td>\n",
       "      <td>0.0</td>\n",
       "      <td>0.0</td>\n",
       "      <td>0.0</td>\n",
       "      <td>1.0</td>\n",
       "      <td>0.000025</td>\n",
       "      <td>0.000026</td>\n",
       "      <td>0.000024</td>\n",
       "      <td>0.000029</td>\n",
       "      <td>0.0</td>\n",
       "      <td>-0.001062</td>\n",
       "      <td>0.006491</td>\n",
       "      <td>0.008269</td>\n",
       "      <td>0.0</td>\n",
       "      <td>0.007365</td>\n",
       "      <td>-0.000604</td>\n",
       "    </tr>\n",
       "    <tr>\n",
       "      <th>4</th>\n",
       "      <td>0.09</td>\n",
       "      <td>3.99</td>\n",
       "      <td>0.0</td>\n",
       "      <td>0.0</td>\n",
       "      <td>0.0</td>\n",
       "      <td>0.0</td>\n",
       "      <td>1.0</td>\n",
       "      <td>0.000023</td>\n",
       "      <td>0.000024</td>\n",
       "      <td>0.000022</td>\n",
       "      <td>0.000026</td>\n",
       "      <td>0.0</td>\n",
       "      <td>-0.001057</td>\n",
       "      <td>0.005739</td>\n",
       "      <td>0.007365</td>\n",
       "      <td>0.0</td>\n",
       "      <td>0.006491</td>\n",
       "      <td>-0.000496</td>\n",
       "    </tr>\n",
       "  </tbody>\n",
       "</table>\n",
       "</div>"
      ],
      "text/plain": [
       "    ccx   ccy  odown  oin  oleft  oright  oup     pdown       pin     pleft  \\\n",
       "0  0.01  3.99    0.0  0.0    0.0     6.0  1.0  0.000031  0.000044  0.000035   \n",
       "1  0.03  3.99    0.0  0.0    0.0     0.0  1.0  0.000029  0.000035  0.000029   \n",
       "2  0.05  3.99    0.0  0.0    0.0     0.0  1.0  0.000027  0.000029  0.000026   \n",
       "3  0.07  3.99    0.0  0.0    0.0     0.0  1.0  0.000025  0.000026  0.000024   \n",
       "4  0.09  3.99    0.0  0.0    0.0     0.0  1.0  0.000023  0.000024  0.000022   \n",
       "\n",
       "     pright  pup     vdown     vleft    vright  vup      vxin      vyin  \n",
       "0  0.000000  0.0 -0.000389  0.009015  0.000000  0.0  0.009596 -0.000328  \n",
       "1  0.000044  0.0 -0.000836  0.008269  0.009596  0.0  0.009015 -0.000642  \n",
       "2  0.000035  0.0 -0.001009  0.007365  0.009015  0.0  0.008269 -0.000680  \n",
       "3  0.000029  0.0 -0.001062  0.006491  0.008269  0.0  0.007365 -0.000604  \n",
       "4  0.000026  0.0 -0.001057  0.005739  0.007365  0.0  0.006491 -0.000496  "
      ]
     },
     "execution_count": 120,
     "metadata": {},
     "output_type": "execute_result"
    }
   ],
   "source": [
    "data1.head()"
   ]
  },
  {
   "cell_type": "code",
   "execution_count": 108,
   "metadata": {
    "collapsed": true,
    "deletable": true,
    "editable": true
   },
   "outputs": [],
   "source": [
    "# Define the input and output data for the training\n",
    "datainput = data1.drop(['ccx','ccy'],axis=1).copy()\n",
    "dataoutput = data2['pin'].copy()\n",
    "\n",
    "# Normalize the data using the input pressure as minimum and maximum\n",
    "dataoutput = (dataoutput - datainput.pin.min())/(datainput.pin.max()-datainput.pin.min())"
   ]
  },
  {
   "cell_type": "code",
   "execution_count": 109,
   "metadata": {
    "collapsed": false,
    "deletable": true,
    "editable": true
   },
   "outputs": [],
   "source": [
    "#Train the chosen model\n",
    "\n",
    "# X_train, X_test, y_train, y_test = train_test_split(datainput, dataoutput, test_size = 0.2, random_state = 3)\n",
    "# clf = DecisionTreeRegressor(random_state=52)\n",
    "clf = RandomForestRegressor(random_state=52,n_estimators=30)\n",
    "clf = clf.fit(datainput,dataoutput)\n"
   ]
  },
  {
   "cell_type": "code",
   "execution_count": 110,
   "metadata": {
    "collapsed": false,
    "deletable": true,
    "editable": true
   },
   "outputs": [
    {
     "name": "stdout",
     "output_type": "stream",
     "text": [
      "Data output vs Prediction                   --> R2  0.999838995965\n",
      "Data output rescaled vs Prediction rescaled --> R2  0.999838995965\n",
      "Score when guessing the same pressure field --> R2  0.994260696676\n"
     ]
    }
   ],
   "source": [
    "# Rescale the data to check if the results are invariant to the transformation. \n",
    "dataoutput_rescaled   = undonormalize(dataoutput,datainput.pin.max(),datainput.pin.min())\n",
    "datapredict_rescaled  = undonormalize(clf.predict(datainput),datainput.pin.max(),datainput.pin.min())\n",
    "\n",
    "# Compare the performance of the prediction with the benchmark of assigning the same pressure field\n",
    "# as the input.\n",
    "print('Data output vs Prediction                   --> R2 ',r2_score(dataoutput,clf.predict(datainput)))\n",
    "print('Data output rescaled vs Prediction rescaled --> R2 ',r2_score(dataoutput_rescaled,datapredict_rescaled))\n",
    "print('Score when guessing the same pressure field --> R2 ',r2_score(data1.pin,data2.pin))"
   ]
  },
  {
   "cell_type": "code",
   "execution_count": 111,
   "metadata": {
    "collapsed": false,
    "deletable": true,
    "editable": true
   },
   "outputs": [
    {
     "data": {
      "text/plain": [
       "<matplotlib.collections.PathCollection at 0x7eff1a77dcf8>"
      ]
     },
     "execution_count": 111,
     "metadata": {},
     "output_type": "execute_result"
    },
    {
     "data": {
      "image/png": "[encoded data removed]",
      "text/plain": [
       "<matplotlib.figure.Figure at 0x7eff1dc06b70>"
      ]
     },
     "metadata": {},
     "output_type": "display_data"
    }
   ],
   "source": [
    "#Visualization of the results \n",
    "plt.figure(figsize=(15,5))\n",
    "plt.subplot(121)\n",
    "plt.scatter(data.ccx,data.ccy,c=clf.predict(datainput),s=20.,cmap='coolwarm')\n",
    "plt.scatter(data.ccx,data.ccy,c=data1.pin,s=20.,cmap='coolwarm')\n",
    "plt.subplot(122)\n",
    "plt.scatter(data.ccx,data.ccy,c=data3.pin,s=20.,cmap='coolwarm')"
   ]
  },
  {
   "cell_type": "code",
   "execution_count": 113,
   "metadata": {
    "collapsed": false,
    "deletable": true,
    "editable": true
   },
   "outputs": [
    {
     "name": "stdout",
     "output_type": "stream",
     "text": [
      "0.983448672048\n",
      "0.994125330234\n"
     ]
    }
   ],
   "source": [
    "# Testing the model in another time-step\n",
    "\n",
    "datainput = data2.drop(['ccx','ccy'],axis=1).copy()\n",
    "dataoutput = data3['pin'].copy()\n",
    "dataoutput = (dataoutput - datainput.pin.min())/(datainput.pin.max()-datainput.pin.min())\n",
    "print(r2_score(dataoutput,clf.predict(datainput)))\n",
    "print(r2_score(data3.pin,datainput.pin))"
   ]
  },
  {
   "cell_type": "code",
   "execution_count": null,
   "metadata": {
    "collapsed": true
   },
   "outputs": [],
   "source": []
  }
 ],
 "metadata": {
  "kernelspec": {
   "display_name": "Python (py3-tensorflow)",
   "language": "python",
   "name": "myenv"
  },
  "language_info": {
   "codemirror_mode": {
    "name": "ipython",
    "version": 3
   },
   "file_extension": ".py",
   "mimetype": "text/x-python",
   "name": "python",
   "nbconvert_exporter": "python",
   "pygments_lexer": "ipython3",
   "version": "3.5.2"
  }
 },
 "nbformat": 4,
 "nbformat_minor": 2
}
