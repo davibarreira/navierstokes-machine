{
 "cells": [
  {
   "cell_type": "markdown",
   "metadata": {},
   "source": [
    "# Machine Learning with Turbulent Simulations"
   ]
  },
  {
   "cell_type": "code",
   "execution_count": 2,
   "metadata": {
    "collapsed": false
   },
   "outputs": [],
   "source": [
    "%matplotlib inline\n",
    "import pandas as pd\n",
    "import numpy as np\n",
    "from matplotlib import pyplot as plt\n",
    "import matplotlib.image as mpimg\n",
    "import seaborn as sns\n",
    "sns.set_style(\"whitegrid\", {'axes.grid' : False})\n",
    "from sklearn.cross_validation import train_test_split\n",
    "from sklearn.metrics import r2_score\n",
    "from sklearn.tree import DecisionTreeRegressor\n",
    "from sklearn.ensemble import RandomForestRegressor\n",
    "import os\n",
    "import re\n",
    "\n",
    "from dataimport import ImportData"
   ]
  },
  {
   "cell_type": "code",
   "execution_count": 3,
   "metadata": {
    "collapsed": true
   },
   "outputs": [],
   "source": [
    "def normalize(x):\n",
    "    \"\"\"\n",
    "    Normalize a list of sample image data in the range of 0 to 1\n",
    "    : x: List of image data.  The image shape is (32, 32, 3)\n",
    "    : return: Numpy array of normalize data\n",
    "    \"\"\"\n",
    "    x = (x-np.min(x))/(np.max(x)-np.min(x))\n",
    "    # TODO: Implement Function\n",
    "    return x"
   ]
  },
  {
   "cell_type": "code",
   "execution_count": 4,
   "metadata": {
    "collapsed": true
   },
   "outputs": [],
   "source": [
    "def ImportData(folder):\n",
    "    file_list = []\n",
    "    file_list.append(pd.read_table('./Mesh/meshcoord.txt',sep=\"\\s+\"))\n",
    "    for filename in os.listdir(folder):\n",
    "        if filename.endswith(\".txt\"): \n",
    "            file_list.append(pd.read_csv(os.path.join(folder, filename),sep=\"\\s+\"))\n",
    "    df = pd.DataFrame()\n",
    "    df = pd.concat(file_list,axis=1)\n",
    "    df = df.drop(['vz','v','ccz'],axis=1)\n",
    "    variables = {}\n",
    "    for col in df.columns:\n",
    "        variables[col],ccx,ccy = np.histogram2d(df.ccx,df.ccy,weights=df[col],bins=(225,200))\n",
    "        variables[col] = np.vstack((np.zeros(200),variables[col],np.zeros(200)))\n",
    "        variables[col] = np.hstack((np.zeros((227,1)),variables[col],np.zeros((227,1))))\n",
    "        variables[col] = variables[col].T[::-1]\n",
    "        \n",
    "    o = np.zeros((225,200))\n",
    "    xg, yg = np.meshgrid(np.arange(100,125,1),np.arange(0,50,1))\n",
    "    for i in np.arange(100,125,1):\n",
    "        for j in np.arange(0,50,1):\n",
    "            o[i,j] = 1\n",
    "    variables['o'] = o\n",
    "    variables['o'] = np.vstack((np.ones(200)+5,variables['o'],np.ones(200)+2))\n",
    "    variables['o'] = np.hstack((np.ones((227,1)),variables['o'],np.ones((227,1))))\n",
    "    variables['o'] = variables['o'].T[::-1]\n",
    "    \n",
    "    dataconv = variables.copy()\n",
    "    \n",
    "    variables.pop('ccx',None)\n",
    "    variables.pop('ccy',None)\n",
    "    \n",
    "    plist = []\n",
    "    for i in np.arange(1,201,1):\n",
    "        for j in np.arange(1,226,1):\n",
    "            di = {}\n",
    "            for col in variables:\n",
    "                di.update({col+'in':variables[col][i,j],col+'right':variables[col][i,j-1],\n",
    "                              col+'left':variables[col][i,j+1],col+'up':variables[col][i-1,j],\n",
    "                              col+'down':variables[col][i+1,j]})\n",
    "                di.update({'ccx':ccx[j-1],'ccy':ccy[-i]})\n",
    "            plist.append(di)\n",
    "    data= pd.DataFrame(plist)\n",
    "    \n",
    "    return data,dataconv\n"
   ]
  },
  {
   "cell_type": "code",
   "execution_count": 142,
   "metadata": {
    "collapsed": false
   },
   "outputs": [],
   "source": [
    "folder = os.getcwd()+'/OpenFOAMfiles/turbulent/machineRANS/0.01'\n",
    "datarans01,_ = ImportData(folder)\n",
    "folder = os.getcwd()+'/OpenFOAMfiles/turbulent/machineRANS/0.02'\n",
    "datarans02,_ = ImportData(folder)\n",
    "folder = os.getcwd()+'/OpenFOAMfiles/turbulent/machineRANS/0.1'\n",
    "datarans1,_ = ImportData(folder)\n",
    "folder = os.getcwd()+'/OpenFOAMfiles/turbulent/machineRANS/0.11'\n",
    "datarans11,_ = ImportData(folder)\n",
    "folder = os.getcwd()+'/OpenFOAMfiles/turbulent/machineRANS/0.15'\n",
    "datarans15,_ = ImportData(folder)\n",
    "folder = os.getcwd()+'/OpenFOAMfiles/turbulent/machineRANS/0.16'\n",
    "datarans16,_ = ImportData(folder)\n",
    "folder = os.getcwd()+'/OpenFOAMfiles/turbulent/machineRANS/0.05'\n",
    "datarans05,_ = ImportData(folder)\n",
    "folder = os.getcwd()+'/OpenFOAMfiles/turbulent/machineRANS/0.06'\n",
    "datarans06,_ = ImportData(folder)\n",
    "folder = os.getcwd()+'/OpenFOAMfiles/turbulent/machineRANS/0.2'\n",
    "datarans2,_ = ImportData(folder)\n",
    "folder = os.getcwd()+'/OpenFOAMfiles/turbulent/machineRANS/0.19'\n",
    "datarans19,_ = ImportData(folder)\n",
    "# folder = os.getcwd()+'/OpenFOAMfiles/turbulent/machineLES/0.05'\n",
    "# datales05,_ = ImportData(folder)\n",
    "# folder = os.getcwd()+'/OpenFOAMfiles/turbulent/machineLES/0.051'\n",
    "# datales051,_ = ImportData(folder)\n",
    "# folder = os.getcwd()+'/OpenFOAMfiles/turbulent/machineLES/0.1'\n",
    "# datales1,_ = ImportData(folder)\n",
    "# folder = os.getcwd()+'/OpenFOAMfiles/turbulent/machineLES/0.101'\n",
    "# datales101,_ = ImportData(folder)\n",
    "# folder = os.getcwd()+'/OpenFOAMfiles/turbulent/machineLES/0.15'\n",
    "# datales15,_ = ImportData(folder)\n",
    "# folder = os.getcwd()+'/OpenFOAMfiles/turbulent/machineLES/0.151'\n",
    "# datales151,_ = ImportData(folder)"
   ]
  },
  {
   "cell_type": "code",
   "execution_count": null,
   "metadata": {
    "collapsed": true
   },
   "outputs": [],
   "source": []
  },
  {
   "cell_type": "code",
   "execution_count": 176,
   "metadata": {
    "collapsed": false
   },
   "outputs": [],
   "source": [
    "datainput  = pd.concat([datarans01,datarans05,datarans1,datarans19],ignore_index=True)\n",
    "dataoutput = pd.concat([datarans02,datarans06,datarans11,datarans2],ignore_index=True)"
   ]
  },
  {
   "cell_type": "code",
   "execution_count": 177,
   "metadata": {
    "collapsed": false
   },
   "outputs": [],
   "source": [
    "datainput  = datainput.drop(['ccx','ccy'],axis=1).copy()\n",
    "dataoutput = dataoutput.pressurein.copy()\n",
    "# datainput = normalize(datainput)\n",
    "# dataoutput= normalize(dataoutput)"
   ]
  },
  {
   "cell_type": "code",
   "execution_count": 178,
   "metadata": {
    "collapsed": false
   },
   "outputs": [],
   "source": [
    "clf = RandomForestRegressor(random_state=52,n_estimators=30)\n",
    "# clf = DecisionTreeRegressor(random_state=52)\n",
    "clf = clf.fit(datainput,dataoutput)"
   ]
  },
  {
   "cell_type": "code",
   "execution_count": 179,
   "metadata": {
    "collapsed": false,
    "scrolled": true
   },
   "outputs": [
    {
     "name": "stdout",
     "output_type": "stream",
     "text": [
      "0.999185461387\n",
      "0.959065285717\n"
     ]
    }
   ],
   "source": [
    "print(r2_score(dataoutput,clf.predict(datainput)))\n",
    "print(r2_score(dataoutput,datainput.pressurein))"
   ]
  },
  {
   "cell_type": "code",
   "execution_count": 180,
   "metadata": {
    "collapsed": true
   },
   "outputs": [],
   "source": [
    "datainput  = datarans15.drop(['ccx','ccy'],axis=1).copy()\n",
    "dataoutput = datarans16.pressurein.copy()\n",
    "# datainput = normalize(datainput)\n",
    "# dataoutput = normalize(dataoutput)"
   ]
  },
  {
   "cell_type": "code",
   "execution_count": 181,
   "metadata": {
    "collapsed": false
   },
   "outputs": [
    {
     "name": "stdout",
     "output_type": "stream",
     "text": [
      "0.985510989087\n",
      "0.971415586222\n"
     ]
    }
   ],
   "source": [
    "print(r2_score(dataoutput,clf.predict(datainput)))\n",
    "print(r2_score(dataoutput,datainput.pressurein))"
   ]
  },
  {
   "cell_type": "code",
   "execution_count": 163,
   "metadata": {
    "collapsed": false
   },
   "outputs": [
    {
     "data": {
      "text/plain": [
       "<matplotlib.collections.PathCollection at 0x7f08911b84a8>"
      ]
     },
     "execution_count": 163,
     "metadata": {},
     "output_type": "execute_result"
    },
    {
     "data": {
      "image/png": "[encoded data removed]",
      "text/plain": [
       "<matplotlib.figure.Figure at 0x7f0899a08ac8>"
      ]
     },
     "metadata": {},
     "output_type": "display_data"
    }
   ],
   "source": [
    "plt.subplot(121)\n",
    "plt.scatter(datarans19.ccx,datarans19.ccy,c=datainput.pressurein,s=20.,cmap='coolwarm')\n",
    "plt.subplot(122)\n",
    "plt.scatter(datarans2.ccx,datarans2.ccy,c=dataoutput,s=20.,cmap='coolwarm')"
   ]
  },
  {
   "cell_type": "code",
   "execution_count": null,
   "metadata": {
    "collapsed": true
   },
   "outputs": [],
   "source": []
  }
 ],
 "metadata": {
  "kernelspec": {
   "display_name": "Python (py3-tensorflow)",
   "language": "python",
   "name": "myenv"
  },
  "language_info": {
   "codemirror_mode": {
    "name": "ipython",
    "version": 3
   },
   "file_extension": ".py",
   "mimetype": "text/x-python",
   "name": "python",
   "nbconvert_exporter": "python",
   "pygments_lexer": "ipython3",
   "version": "3.5.2"
  }
 },
 "nbformat": 4,
 "nbformat_minor": 2
}
