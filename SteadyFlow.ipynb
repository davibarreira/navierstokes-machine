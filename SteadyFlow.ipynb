{
 "cells": [
  {
   "cell_type": "markdown",
   "metadata": {},
   "source": [
    "# NavierStokes Machine - Experimental Project for Machine Learning Capstone - Steady Flow\n",
    "### Objective:\n",
    "Try to apply machine learning techniques to improve the speed in CFD simulations. In this notebook, I will focus on solving steady flows.\n",
    "#### References:\n",
    "Data-driven projection method in fluid simulation (Cheng Yang, Xubo Yang* and Xiangyun Xiao,2016)\n",
    "\n",
    "Convolutional Neural Networks for Steady Flow Approximation (Xiaoxiao Guo, Wei Li, Francesco Iorio, 2016)\n",
    "#### Notes:\n",
    "This is just an initial experimentation to see if the results are consistent.\n",
    "The simulations for the CFD were done with OpenFOAM v.4 for steady incompressible flow, using the **simpleFoam** solver."
   ]
  },
  {
   "cell_type": "code",
   "execution_count": 2,
   "metadata": {
    "collapsed": false,
    "scrolled": true
   },
   "outputs": [
    {
     "name": "stderr",
     "output_type": "stream",
     "text": [
      "/home/davi/Dropbox/Programming/Udacity-ML/image-classification/py3-tensorflow/lib/python3.5/site-packages/IPython/html.py:14: ShimWarning: The `IPython.html` package has been deprecated since IPython 4.0. You should import from `notebook` instead. `IPython.html.widgets` has moved to `ipywidgets`.\n",
      "  \"`IPython.html.widgets` has moved to `ipywidgets`.\", ShimWarning)\n"
     ]
    }
   ],
   "source": [
    "%matplotlib inline\n",
    "import pandas as pd\n",
    "import numpy as np\n",
    "from matplotlib import pyplot as plt\n",
    "import matplotlib.image as mpimg\n",
    "import seaborn as sns\n",
    "sns.set_style(\"whitegrid\", {'axes.grid' : False})"
   ]
  },
  {
   "cell_type": "code",
   "execution_count": 4,
   "metadata": {
    "collapsed": true
   },
   "outputs": [],
   "source": [
    "def normalize(x):\n",
    "    \"\"\"\n",
    "    Normalize a list of sample image data in the range of 0 to 1\n",
    "    : x: List of image data.  The image shape is (32, 32, 3)\n",
    "    : return: Numpy array of normalize data\n",
    "    \"\"\"\n",
    "    x = (x-np.min(x))/(np.max(x)-np.min(x))\n",
    "    # TODO: Implement Function\n",
    "    return x"
   ]
  },
  {
   "cell_type": "code",
   "execution_count": 5,
   "metadata": {
    "collapsed": false
   },
   "outputs": [],
   "source": [
    "file_list = []\n",
    "file_list.append(pd.read_table('meshcoord.txt',sep=\"\\s+\"))\n",
    "file_list.append(pd.read_table('716/pressure.txt'))\n",
    "file_list.append(pd.read_csv('716/velocity.txt',sep=\"\\s+\"))\n",
    "df = pd.DataFrame()\n",
    "df = pd.concat(file_list,axis=1)\n",
    "df = df.drop(['vz','v','ccz'],axis=1)\n",
    "\n",
    "\n",
    "vx,ccx,ccy = np.histogram2d(df.ccx,df.ccy,weights=df.vx,bins=(225,200))\n",
    "vy,ccx,ccy = np.histogram2d(df.ccx,df.ccy,weights=df.vy,bins=(225,200))\n",
    "p,ccx,ccy = np.histogram2d(df.ccx,df.ccy,weights=df.pressure,bins=(225,200))\n",
    "_,ccx,ccy = np.histogram2d(df.ccx,df.ccy,weights=df.vx,bins=(224,199))\n",
    "o = np.zeros((225,200))\n",
    "xg, yg = np.meshgrid(np.arange(100,125,1),np.arange(0,50,1))\n",
    "for i in np.arange(100,125,1):\n",
    "    for j in np.arange(0,50,1):\n",
    "        o[i,j] = 1\n",
    "VY = np.vstack((np.zeros(200),vy,np.zeros(200)))\n",
    "VY = np.hstack((np.zeros((227,1)),VY,np.zeros((227,1))))\n",
    "VX = np.vstack((np.zeros(200),vx,np.zeros(200)))\n",
    "VX = np.hstack((np.zeros((227,1)),VX,np.zeros((227,1))))\n",
    "P = np.vstack((np.zeros(200),p,np.zeros(200)))\n",
    "P = np.hstack((np.zeros((227,1)),P,np.zeros((227,1))))\n",
    "O = np.vstack((np.ones(200)+5,o,np.ones(200)+2))\n",
    "O = np.hstack((np.ones((227,1)),O,np.ones((227,1))))\n",
    "VX = VX.T[::-1]\n",
    "VY = VY.T[::-1]\n",
    "P  = P.T[::-1]\n",
    "O  = O.T[::-1]\n",
    "\n",
    "plist = []\n",
    "for i in np.arange(1,201,1):\n",
    "    for j in np.arange(1,226,1):\n",
    "        plist.append({'pin':P[i,j],'pright':P[i,j-1],'pleft':P[i,j+1],\n",
    "                       'pup':P[i-1,j],'pdown':P[i+1,j],\n",
    "                      'vxin':VX[i,j],'vright':VX[i,j-1],'vleft':VX[i,j+1],\n",
    "                      'vup':VY[i-1,j],'vdown':VY[i+1,j],'vyin':VY[i,j],\n",
    "                      'oin':O[i,j],'oright':O[i,j-1],'oleft':O[i,j+1],\n",
    "                      'oup':O[i-1,j],'odown':O[i+1,j],\n",
    "                      'ccx':ccx[j-1],'ccy':ccy[-i]\n",
    "                     })\n",
    "data= pd.DataFrame(plist)\n",
    "\n",
    "\n",
    "datainput = data.drop(['pin','pleft','pright','pup','pdown','ccx','ccy'],axis=1).copy()\n",
    "dataoutput = data['pin'].copy()\n",
    "dataoutput = normalize(dataoutput)\n",
    "datainput  = normalize(datainput)"
   ]
  },
  {
   "cell_type": "code",
   "execution_count": null,
   "metadata": {
    "collapsed": true
   },
   "outputs": [],
   "source": []
  }
 ],
 "metadata": {
  "kernelspec": {
   "display_name": "Python (py3-tensorflow)",
   "language": "python",
   "name": "myenv"
  },
  "language_info": {
   "codemirror_mode": {
    "name": "ipython",
    "version": 3
   },
   "file_extension": ".py",
   "mimetype": "text/x-python",
   "name": "python",
   "nbconvert_exporter": "python",
   "pygments_lexer": "ipython3",
   "version": "3.5.2"
  }
 },
 "nbformat": 4,
 "nbformat_minor": 2
}
